{
 "cells": [
  {
   "cell_type": "code",
   "execution_count": 6,
   "metadata": {},
   "outputs": [],
   "source": [
    "import numpy as np\n",
    "import pandas as pd\n",
    "import torch\n",
    "import torch.nn as nn\n",
    "import matplotlib.pyplot as mlt\n",
    "import seaborn as sp\n",
    "from torch.autograd import Variable\n",
    "from torch import autograd\n",
    "from datetime import datetime\n",
    "import matplotlib.pyplot as plt\n",
    "import argparse\n",
    "from datetime import timedelta"
   ]
  },
  {
   "cell_type": "code",
   "execution_count": 1,
   "metadata": {},
   "outputs": [],
   "source": [
    "def save_imputed_data(real_data, impute_data, path, columns, scaler=None):\n",
    "    real_data_temp = real_data\n",
    "    impute_data_temp = impute_data\n",
    "\n",
    "    imputed_dataframe = pd.DataFrame(impute_data_temp.detach().cpu().numpy(), columns=columns)\n",
    "    real_dataframe = pd.DataFrame(real_data_temp.detach().cpu().numpy(), columns=columns)\n",
    "    #imputed_dataframe[columns] = real_dataframe[columns]\n",
    "    if scaler is not None:\n",
    "        imputed_dataframe = scaler.inverse_transform(imputed_dataframe)\n",
    "        imputed_dataframe = np.array(imputed_dataframe)\n",
    "        imputed_dataframe = pd.DataFrame(imputed_dataframe, columns=columns)\n",
    "\n",
    "    imputed_dataframe['Energy'] = imputed_dataframe['Energy'].apply(lambda x: 0 if x < 0 else x)\n",
    "    imputed_dataframe['Start'] = imputed_dataframe.apply(lambda row: datetime(int(round(row['Year'])), int(round(row['Month'])), int(round(row['Day of month'])), int(round(row['Hour']))), axis=1)    \n",
    "    imputed_dataframe.set_index('Start', inplace=True)\n",
    "    imputed_dataframe = get_data_decomposition(imputed_dataframe)\n",
    "    imputed_dataframe.reset_index(drop = True, inplace=True)\n",
    "    # imputed_dataframe['Sum'] = imputed_dataframe.groupby(pd.to_datetime(imputed_dataframe['Start']).dt.date)['Energy'].cumsum()\n",
    "    # imputed_dataframe.drop(columns=['Start'], inplace=True)\n",
    "    imputed_dataframe.to_csv(path, index=False) \n"
   ]
  },
  {
   "cell_type": "code",
   "execution_count": null,
   "metadata": {},
   "outputs": [],
   "source": []
  }
 ],
 "metadata": {
  "kernelspec": {
   "display_name": "base",
   "language": "python",
   "name": "python3"
  },
  "language_info": {
   "codemirror_mode": {
    "name": "ipython",
    "version": 3
   },
   "file_extension": ".py",
   "mimetype": "text/x-python",
   "name": "python",
   "nbconvert_exporter": "python",
   "pygments_lexer": "ipython3",
   "version": "3.9.18"
  }
 },
 "nbformat": 4,
 "nbformat_minor": 2
}
