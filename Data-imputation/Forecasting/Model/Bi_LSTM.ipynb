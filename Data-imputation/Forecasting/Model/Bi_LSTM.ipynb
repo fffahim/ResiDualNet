{
 "cells": [
  {
   "cell_type": "code",
   "execution_count": 2,
   "metadata": {},
   "outputs": [],
   "source": [
    "import torch\n",
    "import torch.nn as nn"
   ]
  },
  {
   "cell_type": "code",
   "execution_count": 3,
   "metadata": {},
   "outputs": [],
   "source": [
    "class Bi_LSTM(nn.Module):\n",
    "    def __init__(self, config):\n",
    "        super(Bi_LSTM, self).__init__()\n",
    "        self.config = config\n",
    "        self.input_size = config.input_size\n",
    "        self.hidden_size = config.hidden_size\n",
    "        self.output_size = config.future_step\n",
    "\n",
    "        self.bilstm = nn.LSTM(input_size=self.input_size, hidden_size=self.hidden_size, batch_first=True, bidirectional=True)\n",
    "        self.bilstm2 = nn.LSTM(input_size=self.hidden_size * 2, hidden_size=self.hidden_size, batch_first=True, bidirectional=True)\n",
    "        self.linear = nn.Linear(2 * self.hidden_size * self.config.lag_size, self.output_size * self.input_size)\n",
    "        self.relu = nn.ReLU()\n",
    "        self.flatten = nn.Flatten()\n",
    "\n",
    "    def forward(self, x):\n",
    "        lstm, (_,_) = self.bilstm(x)\n",
    "        lstm, (_,_) = self.bilstm2(lstm)\n",
    "        final = self.linear(self.flatten(lstm))\n",
    "        final = final.view(self.config.batch_size, self.config.future_step, -1)\n",
    "        return self.relu(final)\n",
    "\n"
   ]
  },
  {
   "cell_type": "code",
   "execution_count": null,
   "metadata": {},
   "outputs": [],
   "source": []
  }
 ],
 "metadata": {
  "kernelspec": {
   "display_name": "base",
   "language": "python",
   "name": "python3"
  },
  "language_info": {
   "codemirror_mode": {
    "name": "ipython",
    "version": 3
   },
   "file_extension": ".py",
   "mimetype": "text/x-python",
   "name": "python",
   "nbconvert_exporter": "python",
   "pygments_lexer": "ipython3",
   "version": "3.9.18"
  }
 },
 "nbformat": 4,
 "nbformat_minor": 2
}
