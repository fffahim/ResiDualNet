{
 "cells": [
  {
   "cell_type": "code",
   "execution_count": 3,
   "metadata": {},
   "outputs": [],
   "source": [
    "import torch"
   ]
  },
  {
   "cell_type": "code",
   "execution_count": 2,
   "metadata": {},
   "outputs": [],
   "source": [
    "class ModelTrain():\n",
    "    def __init__(self, config):\n",
    "        self.config = config\n",
    "\n",
    "    def train_Seq2Seq(self, model, optimizer_model, loss_function, real_train, missing_train, mask_train, step_per_epoch, helper):\n",
    "    \n",
    "        loss_evol = []\n",
    "        real_dataset = torch.empty((0, self.config.input_size), dtype=torch.float32).to(self.config.device)\n",
    "        gen_dataset = torch.empty((0, self.config.input_size), dtype=torch.float32).to(self.config.device)\n",
    "        mask = torch.empty((0, self.config.input_size), dtype=torch.float32).to(self.config.device)\n",
    "        epoch = 300\n",
    "        \n",
    "        for i in range(epoch):\n",
    "            count = 0\n",
    "            epoch_loss = 0.0\n",
    "\n",
    "            for step in range(step_per_epoch):\n",
    "                # Data for training the discriminator\n",
    "                real_data, real_label = helper.gen_real_batch(self.config.batch_size, count, real_train)\n",
    "\n",
    "                z_input, mask_input = helper.gen_z_input(self.config.batch_size, count, missing_train, mask_train)\n",
    "                #z_input = torch.cat((z_input, (1 - mask_input[:, :, 1]).unsqueeze(2)), dim=2)\n",
    "                model.zero_grad()\n",
    "                generated_samples = model(z_input)\n",
    "\n",
    "                L2 = torch.sum((real_data - generated_samples)**2)\n",
    "                #L3 = torch.sum((real_data[:, :, self.config.column] - generated_samples[:, :, self.config.column])**2)\n",
    "                g_loss = loss_function(generated_samples, real_data) + L2\n",
    "                g_loss.backward()\n",
    "                optimizer_model.step()\n",
    "                epoch_loss += g_loss.item()\n",
    "                \n",
    "                count += 1\n",
    "                if i == epoch - 1:\n",
    "                    real_dataset = torch.cat([real_dataset, real_data[:, -1, :]], dim=0)\n",
    "                    gen_dataset = torch.cat([gen_dataset, generated_samples[:, -1, :]], dim=0)\n",
    "                    mask = torch.cat([mask, mask_input[:, -1, :]], dim=0)\n",
    "\n",
    "            epoch_loss /= step_per_epoch # average loss per batch\n",
    "            loss_evol.append(epoch_loss)\n",
    "            \n",
    "            print(f\"epoch: {i}, Train loss: {epoch_loss:.7f}\")\n",
    "\n",
    "        return real_dataset, gen_dataset, loss_evol, mask"
   ]
  },
  {
   "cell_type": "code",
   "execution_count": 3,
   "metadata": {},
   "outputs": [],
   "source": [
    "class ModelTest():\n",
    "    def __init__(self, config):\n",
    "        self.config = config\n",
    "\n",
    "    def test_model(self, model, real_data_test, missing_data_test, mask_test, loss_function, step_per_epoch, helper):\n",
    "        model.eval()\n",
    "        test_loss = []\n",
    "\n",
    "        # batch_size = real_data_test.shape[0]\n",
    "        # print(batch_size)\n",
    "        real_dataset = torch.empty((0, self.config.input_size), dtype=torch.float32).to(self.config.device)\n",
    "        gen_dataset = torch.empty((0, self.config.input_size), dtype=torch.float32).to(self.config.device)\n",
    "        mask = torch.empty((0, self.config.input_size), dtype=torch.float32).to(self.config.device)\n",
    "        with torch.no_grad():\n",
    "            count = 0\n",
    "            for step in range(step_per_epoch):\n",
    "                real_data, real_label = helper.gen_real_batch(self.config.batch_size, count, real_data_test)\n",
    "\n",
    "                z_input, mask_input = helper.gen_z_input(self.config.batch_size, count, missing_data_test, mask_test)\n",
    "                \n",
    "                imputed_results = model(z_input)\n",
    "\n",
    "                #L2 = torch.sum((real_data - imputed_results)**2)\n",
    "                L2 = torch.sum((real_data[:, :, self.config.column] - imputed_results[:, :, self.config.column])**2)\n",
    "                loss = loss_function(imputed_results, real_data) + L2\n",
    "                test_loss.append(loss.item())\n",
    "\n",
    "                real_dataset = torch.cat([real_dataset, real_data[:, -1, :]], dim=0)\n",
    "                gen_dataset = torch.cat([gen_dataset, imputed_results[:, -1, :]], dim=0)\n",
    "                mask = torch.cat([mask, mask_input[:, -1, :]], dim=0)\n",
    "\n",
    "                count += 1\n",
    "\n",
    "        return real_dataset, gen_dataset, test_loss, mask"
   ]
  },
  {
   "cell_type": "code",
   "execution_count": null,
   "metadata": {},
   "outputs": [],
   "source": []
  }
 ],
 "metadata": {
  "kernelspec": {
   "display_name": "base",
   "language": "python",
   "name": "python3"
  },
  "language_info": {
   "codemirror_mode": {
    "name": "ipython",
    "version": 3
   },
   "file_extension": ".py",
   "mimetype": "text/x-python",
   "name": "python",
   "nbconvert_exporter": "python",
   "pygments_lexer": "ipython3",
   "version": "3.9.18"
  }
 },
 "nbformat": 4,
 "nbformat_minor": 2
}
